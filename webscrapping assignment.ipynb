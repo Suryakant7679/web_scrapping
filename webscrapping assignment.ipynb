{
 "cells": [
  {
   "cell_type": "markdown",
   "id": "222ccec2-421d-4ac4-82c8-7a5dd125b8f4",
   "metadata": {},
   "source": [
    "Q1. What is Web Scraping? Why is it Used? Give three areas where Web Scraping is used to get data."
   ]
  },
  {
   "cell_type": "markdown",
   "id": "5d36c2fa-5fcb-4184-a715-240c309e3e4d",
   "metadata": {},
   "source": [
    "Ans:-Web scraping is used in a variety of digital businesses that rely on data harvesting. Legitimate use cases include: Search engine bots crawling a site, analyzing its content and then ranking it. Price comparison sites deploying bots to auto-fetch prices and product descriptions for allied seller websites."
   ]
  },
  {
   "cell_type": "markdown",
   "id": "0ef03d36-bb6f-4b50-8afd-729650414e85",
   "metadata": {},
   "source": [
    "Q2. What are the different methods used for Web Scraping?"
   ]
  },
  {
   "cell_type": "markdown",
   "id": "cb8afa1e-9bd9-48c0-a43e-25621b0f149e",
   "metadata": {},
   "source": [
    "there are many ways to perform web scraping to get data from websites. These include using online services, special APIs, or even creating code for web scraping from scratch. Many large websites, such as Google, Twitter, Facebook, StackOverflow, etc. have APIs that allow you to access your data in a structured format."
   ]
  },
  {
   "cell_type": "markdown",
   "id": "d544dc8d-d8e1-4862-a798-d02bc0bdeae0",
   "metadata": {},
   "source": [
    "Q3. What is Beautiful Soup? Why is it used?"
   ]
  },
  {
   "cell_type": "markdown",
   "id": "5fdce5d0-ef96-4fb2-91d6-5850bd54d037",
   "metadata": {},
   "source": [
    "Ans:- Beautiful Soup is a Python package for parsing HTML and XML documents (including having malformed markup, i.e. non-closed tags, so named after tag soup). It creates a parse tree for parsed pages that can be used to extract data from HTML, which is useful for web scraping."
   ]
  },
  {
   "cell_type": "markdown",
   "id": "bf2f555b-4872-4958-ab85-442d22d06b95",
   "metadata": {},
   "source": [
    "Q4. Why is flask used in this Web Scraping project?"
   ]
  },
  {
   "cell_type": "markdown",
   "id": "8f8ad542-5976-4f0e-98b1-349bdc9f615f",
   "metadata": {},
   "source": [
    "Ans-Flask is a lightweight framework to build websites. We'll use this to parse our collected data and display it as HTML in a new HTML file. The requests module allows us to send http requests to the website we want to scrape. The first line imports the Flask class and the render_template method from the flask library."
   ]
  },
  {
   "cell_type": "markdown",
   "id": "2432edb9-feb7-46dc-b576-8b02db9d1753",
   "metadata": {},
   "source": [
    "Q5. Write the names of AWS services used in this project. Also, explain the use of each service."
   ]
  },
  {
   "cell_type": "markdown",
   "id": "34bae1b4-a0a6-427d-810b-ccba43759e2d",
   "metadata": {},
   "source": [
    "Ans:- Elastivc beanstalk and code pipeline"
   ]
  },
  {
   "cell_type": "code",
   "execution_count": null,
   "id": "041d29da-29cc-4a79-92ae-3f028a744a6d",
   "metadata": {},
   "outputs": [],
   "source": []
  }
 ],
 "metadata": {
  "kernelspec": {
   "display_name": "Python 3 (ipykernel)",
   "language": "python",
   "name": "python3"
  },
  "language_info": {
   "codemirror_mode": {
    "name": "ipython",
    "version": 3
   },
   "file_extension": ".py",
   "mimetype": "text/x-python",
   "name": "python",
   "nbconvert_exporter": "python",
   "pygments_lexer": "ipython3",
   "version": "3.10.0"
  }
 },
 "nbformat": 4,
 "nbformat_minor": 5
}
